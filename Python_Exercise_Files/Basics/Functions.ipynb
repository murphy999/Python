{
 "cells": [
  {
   "cell_type": "markdown",
   "metadata": {},
   "source": [
    "##### Functions \n",
    "* Reusability code functionality\n",
    "* Grouping of stmts that can be reused\n",
    "* Erroneous stmts are highlighted when functions are invoked and not when defined.\n",
    "    \n",
    "Types of Functions :\n",
    "1. Built-in Functions : sum, max, min etc.\n",
    "2. User-defined Functions\n",
    "3. Lambda Functions - is an anonymous function, generally used with higher order functions (HoF) like map, filter etc."
   ]
  },
  {
   "cell_type": "code",
   "execution_count": 5,
   "metadata": {},
   "outputs": [
    {
     "data": {
      "text/plain": [
       "<function __main__.function_defn()>"
      ]
     },
     "execution_count": 5,
     "metadata": {},
     "output_type": "execute_result"
    }
   ],
   "source": [
    "# Functions as object\n",
    "def function_defn():\n",
    "    '''This is a well documented function definition'''\n",
    "    print(\"hello\")\n",
    "function_defn"
   ]
  },
  {
   "cell_type": "code",
   "execution_count": 3,
   "metadata": {},
   "outputs": [
    {
     "data": {
      "text/plain": [
       "'This is a well documented function definition'"
      ]
     },
     "execution_count": 3,
     "metadata": {},
     "output_type": "execute_result"
    }
   ],
   "source": [
    "# refer function documentation\n",
    "function_defn.__doc__"
   ]
  },
  {
   "cell_type": "code",
   "execution_count": 8,
   "metadata": {},
   "outputs": [
    {
     "data": {
      "text/plain": [
       "<function __main__.function_defn()>"
      ]
     },
     "execution_count": 8,
     "metadata": {},
     "output_type": "execute_result"
    }
   ],
   "source": [
    "# create a reference to original function\n",
    "another_func = function_defn\n",
    "another_func"
   ]
  },
  {
   "cell_type": "code",
   "execution_count": 9,
   "metadata": {},
   "outputs": [
    {
     "name": "stdout",
     "output_type": "stream",
     "text": [
      "hello\n"
     ]
    }
   ],
   "source": [
    "another_func()"
   ]
  },
  {
   "cell_type": "code",
   "execution_count": 10,
   "metadata": {},
   "outputs": [
    {
     "name": "stdout",
     "output_type": "stream",
     "text": [
      "hello\n"
     ]
    }
   ],
   "source": [
    "function_defn()"
   ]
  },
  {
   "cell_type": "code",
   "execution_count": 12,
   "metadata": {},
   "outputs": [
    {
     "name": "stdout",
     "output_type": "stream",
     "text": [
      "My name is Max\n",
      "I live in Dallas\n"
     ]
    }
   ],
   "source": [
    "# Input Arguments\n",
    "def intro_func(name,city):\n",
    "    print(\"My name is\",name)\n",
    "    print(\"I live in\",city)\n",
    "intro_func(\"Max\",\"Dallas\")"
   ]
  },
  {
   "cell_type": "code",
   "execution_count": 13,
   "metadata": {},
   "outputs": [],
   "source": [
    "salary = 1000\n",
    "expense = 400\n",
    "def my_savings(sal,exp): \n",
    "    print(\"My savings is\",salary-expense)   # references global variables "
   ]
  },
  {
   "cell_type": "code",
   "execution_count": 14,
   "metadata": {},
   "outputs": [
    {
     "ename": "TypeError",
     "evalue": "my_savings() missing 2 required positional arguments: 'sal' and 'exp'",
     "output_type": "error",
     "traceback": [
      "\u001b[1;31m---------------------------------------------------------------------------\u001b[0m",
      "\u001b[1;31mTypeError\u001b[0m                                 Traceback (most recent call last)",
      "\u001b[1;32m<ipython-input-14-4996e8e27f5e>\u001b[0m in \u001b[0;36m<module>\u001b[1;34m\u001b[0m\n\u001b[1;32m----> 1\u001b[1;33m \u001b[0mmy_savings\u001b[0m\u001b[1;33m(\u001b[0m\u001b[1;33m)\u001b[0m\u001b[1;33m\u001b[0m\u001b[1;33m\u001b[0m\u001b[0m\n\u001b[0m",
      "\u001b[1;31mTypeError\u001b[0m: my_savings() missing 2 required positional arguments: 'sal' and 'exp'"
     ]
    }
   ],
   "source": [
    "my_savings()"
   ]
  },
  {
   "cell_type": "code",
   "execution_count": 15,
   "metadata": {},
   "outputs": [
    {
     "name": "stdout",
     "output_type": "stream",
     "text": [
      "My savings is 600\n"
     ]
    }
   ],
   "source": [
    "my_savings(salary,expense)"
   ]
  },
  {
   "cell_type": "code",
   "execution_count": 18,
   "metadata": {},
   "outputs": [
    {
     "name": "stdout",
     "output_type": "stream",
     "text": [
      "My savings is 600\n"
     ]
    }
   ],
   "source": [
    "my_savings(1200,700) # what hpnd ?\n",
    "# the function my_savings referes to global variables and not input arguments"
   ]
  },
  {
   "cell_type": "code",
   "execution_count": 23,
   "metadata": {},
   "outputs": [],
   "source": [
    "def my_actual_savings(salary,expense): \n",
    "    print(\"My savings is\",salary-expense) # refers to input arguments"
   ]
  },
  {
   "cell_type": "code",
   "execution_count": 24,
   "metadata": {},
   "outputs": [
    {
     "name": "stdout",
     "output_type": "stream",
     "text": [
      "My savings is 600\n",
      "My savings is 500\n"
     ]
    }
   ],
   "source": [
    "my_actual_savings(salary,expense)\n",
    "my_actual_savings(1200,700) "
   ]
  },
  {
   "cell_type": "code",
   "execution_count": 25,
   "metadata": {},
   "outputs": [
    {
     "name": "stdout",
     "output_type": "stream",
     "text": [
      "The length of data is 4\n"
     ]
    }
   ],
   "source": [
    "# function takes in complex datatype\n",
    "\n",
    "#list\n",
    "list_a = [\"dog\",\"cat\",\"horse\",\"deer\"]\n",
    "\n",
    "# function defined\n",
    "def length_data(some_list):\n",
    "    count=0\n",
    "    for i in some_list:\n",
    "        count+=1\n",
    "    print(\"The length of data is\",count)\n",
    "\n",
    "# function invoked\n",
    "length_data(list_a)"
   ]
  },
  {
   "cell_type": "code",
   "execution_count": 27,
   "metadata": {},
   "outputs": [
    {
     "name": "stdout",
     "output_type": "stream",
     "text": [
      "The length of data is 5\n"
     ]
    }
   ],
   "source": [
    "list_a.append(\"hamster\")\n",
    "length_data(list_a)"
   ]
  },
  {
   "cell_type": "code",
   "execution_count": 28,
   "metadata": {},
   "outputs": [
    {
     "data": {
      "text/plain": [
       "['dog', 'cat', 'horse', 'deer', 'hamster']"
      ]
     },
     "execution_count": 28,
     "metadata": {},
     "output_type": "execute_result"
    }
   ],
   "source": [
    "list_a"
   ]
  },
  {
   "cell_type": "code",
   "execution_count": 29,
   "metadata": {},
   "outputs": [
    {
     "name": "stdout",
     "output_type": "stream",
     "text": [
      "The length of data is 8\n"
     ]
    }
   ],
   "source": [
    "length_data([1,2,3,4,5,6,7,8])"
   ]
  },
  {
   "cell_type": "code",
   "execution_count": 30,
   "metadata": {},
   "outputs": [],
   "source": [
    "# Function that returns values\n",
    "def length_data_return(some_list):\n",
    "    count=0\n",
    "    for i in some_list:\n",
    "        count+=1\n",
    "    return count"
   ]
  },
  {
   "cell_type": "code",
   "execution_count": 36,
   "metadata": {},
   "outputs": [
    {
     "data": {
      "text/plain": [
       "5"
      ]
     },
     "execution_count": 36,
     "metadata": {},
     "output_type": "execute_result"
    }
   ],
   "source": [
    "length_data_return(list_a)"
   ]
  },
  {
   "cell_type": "code",
   "execution_count": 1,
   "metadata": {},
   "outputs": [],
   "source": [
    "# Empty return\n",
    "def empty_return(x,y):\n",
    "    z = x+y\n",
    "    return"
   ]
  },
  {
   "cell_type": "code",
   "execution_count": 2,
   "metadata": {},
   "outputs": [],
   "source": [
    "val = empty_return(5,7)\n",
    "val"
   ]
  },
  {
   "cell_type": "code",
   "execution_count": 3,
   "metadata": {},
   "outputs": [
    {
     "name": "stdout",
     "output_type": "stream",
     "text": [
      "None\n"
     ]
    }
   ],
   "source": [
    "print(val) # None => Nothing"
   ]
  },
  {
   "cell_type": "code",
   "execution_count": 4,
   "metadata": {},
   "outputs": [
    {
     "data": {
      "text/plain": [
       "NoneType"
      ]
     },
     "execution_count": 4,
     "metadata": {},
     "output_type": "execute_result"
    }
   ],
   "source": [
    "type(val) # None belongs to NoneType which is a special datatype in Python"
   ]
  },
  {
   "cell_type": "code",
   "execution_count": 43,
   "metadata": {},
   "outputs": [],
   "source": [
    "# Return Multiple Values\n",
    "\n",
    "def calculator(x,y):\n",
    "    return x+y, x-y, x*y,x/y"
   ]
  },
  {
   "cell_type": "code",
   "execution_count": 45,
   "metadata": {},
   "outputs": [
    {
     "data": {
      "text/plain": [
       "(9, -3, 18, 0.5)"
      ]
     },
     "execution_count": 45,
     "metadata": {},
     "output_type": "execute_result"
    }
   ],
   "source": [
    "# wrapped as a tuple and returned as a tuple\n",
    "calculator(3,6)"
   ]
  },
  {
   "cell_type": "code",
   "execution_count": 44,
   "metadata": {},
   "outputs": [
    {
     "name": "stdout",
     "output_type": "stream",
     "text": [
      "9 1 20 1.25\n"
     ]
    }
   ],
   "source": [
    "# assigned to variables\n",
    "add,sub,mul,div = calculator(5,4)\n",
    "print(add,sub,mul,div)"
   ]
  },
  {
   "cell_type": "code",
   "execution_count": 46,
   "metadata": {},
   "outputs": [
    {
     "name": "stdout",
     "output_type": "stream",
     "text": [
      "1 2.0\n"
     ]
    }
   ],
   "source": [
    "# ignore certian results/returns\n",
    "_,sub,_,div = calculator(2,1)\n",
    "print(sub,div)"
   ]
  },
  {
   "cell_type": "code",
   "execution_count": 47,
   "metadata": {},
   "outputs": [],
   "source": [
    "# Multiple return stmts\n",
    "def positivity(num):\n",
    "    if(num>0):\n",
    "        return \"Positive\"\n",
    "    elif(num<0):\n",
    "        return \"Negative\"\n",
    "    else:\n",
    "        return \"Zero\""
   ]
  },
  {
   "cell_type": "code",
   "execution_count": 48,
   "metadata": {},
   "outputs": [
    {
     "name": "stdout",
     "output_type": "stream",
     "text": [
      "Positive Zero Negative\n"
     ]
    }
   ],
   "source": [
    "print(positivity(21),positivity(0),positivity(-21))"
   ]
  },
  {
   "cell_type": "code",
   "execution_count": 51,
   "metadata": {},
   "outputs": [],
   "source": [
    "# Return Complex Data Types\n",
    "\n",
    "def generate_list1(name,times):\n",
    "    some_list =[]\n",
    "    for i in range(times):\n",
    "        some_list.append(name)\n",
    "    return some_list"
   ]
  },
  {
   "cell_type": "code",
   "execution_count": 52,
   "metadata": {},
   "outputs": [
    {
     "name": "stdout",
     "output_type": "stream",
     "text": [
      "['Gomes', 'Gomes', 'Gomes']\n"
     ]
    }
   ],
   "source": [
    "print(generate_list1(\"Gomes\",3))"
   ]
  },
  {
   "cell_type": "code",
   "execution_count": 53,
   "metadata": {},
   "outputs": [],
   "source": [
    "# list comprehension to generate list\n",
    "def generate_list2(name,times):\n",
    "    return [name for i in range(times)]"
   ]
  },
  {
   "cell_type": "code",
   "execution_count": 54,
   "metadata": {},
   "outputs": [
    {
     "name": "stdout",
     "output_type": "stream",
     "text": [
      "['Selena', 'Selena', 'Selena', 'Selena']\n"
     ]
    }
   ],
   "source": [
    "print(generate_list1(\"Selena\",4))"
   ]
  },
  {
   "cell_type": "code",
   "execution_count": null,
   "metadata": {},
   "outputs": [],
   "source": [
    "'''\n",
    "The above used arguments are called positional arguments. Order matters.\n",
    "Ex- generate_list(\"Selena\",4). \n",
    "\n",
    "We can also use keyword arguments where we pass values by assigning it to arguments name. Order does not matter.\n",
    "Ex- generate_list(times = 3,name = \"Gomes\").\n",
    "\n",
    "We can aslo mix and match positional and keyword arguments. \n",
    "FYI:\n",
    "     Mention all positional arguments before keyword arguments.\n",
    "NOTE:\n",
    "    USE KEYWORD ARGUMENTS\n",
    "'''"
   ]
  },
  {
   "cell_type": "code",
   "execution_count": 55,
   "metadata": {},
   "outputs": [
    {
     "name": "stdout",
     "output_type": "stream",
     "text": [
      "<class 'tuple'>\n",
      "('Bobbby', 1, 3.4, None, ' ')\n"
     ]
    }
   ],
   "source": [
    "# Variable Argument length - * tells python that function can take 'n' no.of arguments and \n",
    "# pack them in a tuple and pass them as a single tuple\n",
    "\n",
    "def printer(*args):\n",
    "    args_type = type(args)\n",
    "    \n",
    "    print(args_type)\n",
    "    print(args)\n",
    "\n",
    "printer(\"Bobbby\",1,3.4,None,\" \")"
   ]
  },
  {
   "cell_type": "code",
   "execution_count": 56,
   "metadata": {},
   "outputs": [
    {
     "name": "stdout",
     "output_type": "stream",
     "text": [
      "<class 'tuple'>\n",
      "('Abc',)\n"
     ]
    }
   ],
   "source": [
    "printer('Abc')"
   ]
  },
  {
   "cell_type": "code",
   "execution_count": 57,
   "metadata": {},
   "outputs": [
    {
     "name": "stdout",
     "output_type": "stream",
     "text": [
      "<class 'tuple'>\n",
      "([1, 2, 3, 4, 5, 6],)\n"
     ]
    }
   ],
   "source": [
    "printer([1,2,3,4,5,6])"
   ]
  },
  {
   "cell_type": "code",
   "execution_count": 58,
   "metadata": {},
   "outputs": [
    {
     "name": "stdout",
     "output_type": "stream",
     "text": [
      "<class 'tuple'>\n",
      "(1, 2, 3, 4, 5, 6)\n"
     ]
    }
   ],
   "source": [
    "printer(*[1,2,3,4,5,6]) #unpack the list and pass the unpack list and pass individual elements, \n",
    "#python will repack the arguments as tuple"
   ]
  },
  {
   "cell_type": "code",
   "execution_count": 59,
   "metadata": {},
   "outputs": [
    {
     "name": "stdout",
     "output_type": "stream",
     "text": [
      "<class 'dict'>\n",
      "{}\n"
     ]
    }
   ],
   "source": [
    "# to pack arguments as dictionary\n",
    "def student(**kwargs):\n",
    "    print(type(kwargs))\n",
    "    print(kwargs)\n",
    "student()"
   ]
  },
  {
   "cell_type": "code",
   "execution_count": 60,
   "metadata": {},
   "outputs": [
    {
     "name": "stdout",
     "output_type": "stream",
     "text": [
      "<class 'dict'>\n",
      "{'name': 'John', 'age': 18}\n"
     ]
    }
   ],
   "source": [
    "student(name='John',age=18)"
   ]
  },
  {
   "cell_type": "code",
   "execution_count": 63,
   "metadata": {},
   "outputs": [],
   "source": [
    "# Variable length keyword arguments are passed into the function as a dictionary\n",
    "\n",
    "# Variable length positional arguments are passed into the function as a tuple"
   ]
  },
  {
   "cell_type": "code",
   "execution_count": 68,
   "metadata": {},
   "outputs": [
    {
     "name": "stdout",
     "output_type": "stream",
     "text": [
      "Name of Students are :  ('Bob', 'Danish', 'Lora')\n",
      "College :  Boston University\n"
     ]
    }
   ],
   "source": [
    "def details(*args,**kwargs):\n",
    "    print(\"Name of Students are : \",args)\n",
    "    #print(\"College : \",kwargs.values())\n",
    "    print(\"College : \",kwargs['college'])\n",
    "details(\"Bob\",\"Danish\",\"Lora\",college=\"Boston University\")"
   ]
  },
  {
   "cell_type": "code",
   "execution_count": null,
   "metadata": {},
   "outputs": [],
   "source": []
  }
 ],
 "metadata": {
  "kernelspec": {
   "display_name": "Python 3",
   "language": "python",
   "name": "python3"
  },
  "language_info": {
   "codemirror_mode": {
    "name": "ipython",
    "version": 3
   },
   "file_extension": ".py",
   "mimetype": "text/x-python",
   "name": "python",
   "nbconvert_exporter": "python",
   "pygments_lexer": "ipython3",
   "version": "3.7.6"
  }
 },
 "nbformat": 4,
 "nbformat_minor": 4
}
