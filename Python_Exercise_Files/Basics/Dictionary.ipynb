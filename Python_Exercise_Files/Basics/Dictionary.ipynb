{
 "cells": [
  {
   "cell_type": "markdown",
   "metadata": {},
   "source": [
    "##### Dictionary\n",
    "* works with key-value pairs\n",
    "* mutable\n",
    "* iterable\n",
    "* similar to array (without indexed)\n",
    "* denoted with curly braces {}"
   ]
  },
  {
   "cell_type": "code",
   "execution_count": 1,
   "metadata": {},
   "outputs": [
    {
     "name": "stdout",
     "output_type": "stream",
     "text": [
      "Phone number of Vijay is 938477566\n",
      "Phone number of Sanjay is 938377264\n",
      "Phone number of Ajay is 947662781\n"
     ]
    }
   ],
   "source": [
    "phonebook = {\"Vijay\" : 938477566, \"Sanjay\" : 938377264, \"Ajay\" : 947662781}\n",
    "\n",
    "for name, number in phonebook.items():\n",
    "    print(\"Phone number of %s is %d\"  %(name,number))"
   ]
  },
  {
   "cell_type": "code",
   "execution_count": 2,
   "metadata": {},
   "outputs": [
    {
     "name": "stdout",
     "output_type": "stream",
     "text": [
      "{'Vijay': 938477566, 'Sanjay': 938377264, 'Ajay': 947662781, 'Shasi': 9922153169}\n"
     ]
    }
   ],
   "source": [
    "# Add data\n",
    "phonebook[\"Shasi\"] = 9922153169\n",
    "print(phonebook)"
   ]
  },
  {
   "cell_type": "code",
   "execution_count": 3,
   "metadata": {},
   "outputs": [
    {
     "name": "stdout",
     "output_type": "stream",
     "text": [
      "{'Vijay': 938477566, 'Ajay': 947662781, 'Shasi': 9922153169}\n"
     ]
    }
   ],
   "source": [
    "# Remove data\n",
    "phonebook.pop(\"Sanjay\")\n",
    "print(phonebook)"
   ]
  },
  {
   "cell_type": "code",
   "execution_count": 5,
   "metadata": {},
   "outputs": [
    {
     "name": "stdout",
     "output_type": "stream",
     "text": [
      "Shasi is listed in the phonebook.\n",
      "Sanjay is not listed in the phonebook.\n"
     ]
    }
   ],
   "source": [
    "# Search by Key\n",
    "if \"Shasi\" in phonebook:\n",
    "   print(\"Shasi is listed in the phonebook.\")\n",
    "else:\n",
    "    print(\"Shasi is not listed in the phonebook.\")\n",
    "if \"Sanjay\" not in phonebook:\n",
    "    print(\"Sanjay is not listed in the phonebook.\")\n",
    "else:\n",
    "    print(\"Vijay is present\") "
   ]
  },
  {
   "cell_type": "code",
   "execution_count": 6,
   "metadata": {},
   "outputs": [
    {
     "name": "stdout",
     "output_type": "stream",
     "text": [
      "{'Wheat': 40, 'Rice': 70, 'Sugar': 50}\n",
      "-----------Updates Grocery Items----------------\n",
      "{'Wheat': 60, 'Rice': 80, 'Sugar': 50, 'oil': 110}\n"
     ]
    }
   ],
   "source": [
    "# Update Dictionary\n",
    "grocery = {\"Wheat\":40, \"Rice\":70, \"Sugar\":50}\n",
    "new_grocery = {\"Wheat\" : 60, \"Rice\" : 80, \"Sugar\":50, \"oil\":110}\n",
    "print(grocery)\n",
    "print(\"-----------Updates Grocery Items----------------\")\n",
    "grocery.update(new_grocery)\n",
    "print(grocery)"
   ]
  },
  {
   "cell_type": "code",
   "execution_count": null,
   "metadata": {},
   "outputs": [],
   "source": []
  },
  {
   "cell_type": "code",
   "execution_count": null,
   "metadata": {},
   "outputs": [],
   "source": []
  },
  {
   "cell_type": "code",
   "execution_count": null,
   "metadata": {},
   "outputs": [],
   "source": []
  },
  {
   "cell_type": "code",
   "execution_count": null,
   "metadata": {},
   "outputs": [],
   "source": []
  },
  {
   "cell_type": "code",
   "execution_count": null,
   "metadata": {},
   "outputs": [],
   "source": []
  },
  {
   "cell_type": "code",
   "execution_count": null,
   "metadata": {},
   "outputs": [],
   "source": []
  },
  {
   "cell_type": "code",
   "execution_count": null,
   "metadata": {},
   "outputs": [],
   "source": []
  },
  {
   "cell_type": "code",
   "execution_count": null,
   "metadata": {},
   "outputs": [],
   "source": []
  }
 ],
 "metadata": {
  "kernelspec": {
   "display_name": "Python 3",
   "language": "python",
   "name": "python3"
  },
  "language_info": {
   "codemirror_mode": {
    "name": "ipython",
    "version": 3
   },
   "file_extension": ".py",
   "mimetype": "text/x-python",
   "name": "python",
   "nbconvert_exporter": "python",
   "pygments_lexer": "ipython3",
   "version": "3.7.6"
  }
 },
 "nbformat": 4,
 "nbformat_minor": 4
}
