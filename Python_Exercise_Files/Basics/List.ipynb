{
 "cells": [
  {
   "cell_type": "markdown",
   "metadata": {},
   "source": [
    "##### List\n",
    "* an ordered collection of elements(any data type) : Vector - can   access only 1 value\n",
    "* specified in square brackets []\n",
    "* can contain duplicates\n",
    "* mutable\n",
    "* iterable"
   ]
  },
  {
   "cell_type": "code",
   "execution_count": 1,
   "metadata": {},
   "outputs": [
    {
     "data": {
      "text/plain": [
       "[]"
      ]
     },
     "execution_count": 1,
     "metadata": {},
     "output_type": "execute_result"
    }
   ],
   "source": [
    "empty_list = []\n",
    "empty_list"
   ]
  },
  {
   "cell_type": "code",
   "execution_count": 3,
   "metadata": {},
   "outputs": [
    {
     "data": {
      "text/plain": [
       "[1, 1, 'One', 1.1, True]"
      ]
     },
     "execution_count": 3,
     "metadata": {},
     "output_type": "execute_result"
    }
   ],
   "source": [
    "# Mixed list\n",
    "mixed_list = [1,1,\"One\",1.1,True]\n",
    "mixed_list"
   ]
  },
  {
   "cell_type": "code",
   "execution_count": 2,
   "metadata": {},
   "outputs": [
    {
     "data": {
      "text/plain": [
       "3"
      ]
     },
     "execution_count": 2,
     "metadata": {},
     "output_type": "execute_result"
    }
   ],
   "source": [
    "# can access values using index. starts with 0\n",
    "car = ['Toyota','BMW','Mercedes']\n",
    "# car[0]\n",
    "# car[2]\n",
    "#car[3] : list index out of range\n",
    "len(car)"
   ]
  },
  {
   "cell_type": "code",
   "execution_count": 8,
   "metadata": {},
   "outputs": [
    {
     "data": {
      "text/plain": [
       "'Mercedes'"
      ]
     },
     "execution_count": 8,
     "metadata": {},
     "output_type": "execute_result"
    }
   ],
   "source": [
    "# read list bacwards\n",
    "car[-1]"
   ]
  },
  {
   "cell_type": "code",
   "execution_count": 10,
   "metadata": {},
   "outputs": [
    {
     "name": "stdout",
     "output_type": "stream",
     "text": [
      "Updated cars are :  ['Toyota', 'Audi', 'Mercedes']\n"
     ]
    }
   ],
   "source": [
    "# Updating list\n",
    "car[-2] = \"Audi\"\n",
    "print(\"Updated cars are : \",car)"
   ]
  },
  {
   "cell_type": "code",
   "execution_count": 16,
   "metadata": {},
   "outputs": [
    {
     "name": "stdout",
     "output_type": "stream",
     "text": [
      "['Toyota', 'Audi', 'Mercedes', 'Jaguar', 'Honda', 'Jaguar', 'Jaguar', 'Kampa', 'TATA']\n"
     ]
    }
   ],
   "source": [
    "# Add new car\n",
    "#car[3] = \"Jaguar\" #list assignment index out of range\n",
    "# [] to access only existing element(index) in the list\n",
    "\n",
    "# Append : argument(value)\n",
    "#car.append(\"Jaguar\")\n",
    "\n",
    "# At specific position : insert : 2 arguments (index,value)\n",
    "#car.insert(4,\"Honda\")\n",
    "\n",
    "# Add mulitple values : extend  - argument(list) or use '+' operator\n",
    "car.extend([\"Kampa\",\"TATA\"])\n",
    "\n",
    "print(car)"
   ]
  },
  {
   "cell_type": "code",
   "execution_count": 18,
   "metadata": {},
   "outputs": [
    {
     "data": {
      "text/plain": [
       "3"
      ]
     },
     "execution_count": 18,
     "metadata": {},
     "output_type": "execute_result"
    }
   ],
   "source": [
    "# Find index position\n",
    "car.index(\"Jaguar\")"
   ]
  },
  {
   "cell_type": "code",
   "execution_count": 27,
   "metadata": {},
   "outputs": [
    {
     "data": {
      "text/plain": [
       "['Toyota', 'TATA', 'Mercedes', 'Kampa', 'Jaguar', 'Honda']"
      ]
     },
     "execution_count": 27,
     "metadata": {},
     "output_type": "execute_result"
    }
   ],
   "source": [
    "# Remove\n",
    "#car.remove(\"Jaguar\")\n",
    "car.pop()\n",
    "car"
   ]
  },
  {
   "cell_type": "code",
   "execution_count": 28,
   "metadata": {},
   "outputs": [
    {
     "name": "stdout",
     "output_type": "stream",
     "text": [
      "Ascending Order :  ['Honda', 'Jaguar', 'Kampa', 'Mercedes', 'TATA', 'Toyota']\n"
     ]
    },
    {
     "data": {
      "text/plain": [
       "['Toyota', 'TATA', 'Mercedes', 'Kampa', 'Jaguar', 'Honda']"
      ]
     },
     "execution_count": 28,
     "metadata": {},
     "output_type": "execute_result"
    }
   ],
   "source": [
    "# Sorting / Ordering\n",
    "car.sort()\n",
    "print(\"Ascending Order : \",car)\n",
    "car.reverse()\n",
    "car"
   ]
  },
  {
   "cell_type": "code",
   "execution_count": 29,
   "metadata": {},
   "outputs": [
    {
     "data": {
      "text/plain": [
       "1"
      ]
     },
     "execution_count": 29,
     "metadata": {},
     "output_type": "execute_result"
    }
   ],
   "source": [
    "# Count : if duplicate present then count > 1\n",
    "car.count(\"TATA\")"
   ]
  },
  {
   "cell_type": "code",
   "execution_count": 9,
   "metadata": {},
   "outputs": [
    {
     "name": "stdout",
     "output_type": "stream",
     "text": [
      "['China', 'Beijing']\n",
      "China\n"
     ]
    }
   ],
   "source": [
    "# List inside another List\n",
    "bricks=[\n",
    "         [\"Brazil\",\"Brasilia\",8.516,200.4],\n",
    "         [\"Russia\",\"Moscow\",17.10,143.5],\n",
    "         [\"India\",\"New Dehli\"],\n",
    "         [\"China\",\"Beijing\"],\n",
    "         [\"South Africa\",\"Pretoria\"]\n",
    "        ]\n",
    "print(bricks[3])  \n",
    "print(bricks[3][0])"
   ]
  },
  {
   "cell_type": "code",
   "execution_count": 12,
   "metadata": {},
   "outputs": [
    {
     "name": "stdout",
     "output_type": "stream",
     "text": [
      "Country\tCapital\n",
      "Brazil\tBrasilia\n",
      "Russia\tMoscow\n",
      "India\tNew Dehli\n",
      "China\tBeijing\n",
      "South Africa\tPretoria\n"
     ]
    }
   ],
   "source": [
    "print(\"Country\" + \"\\t\" + \"Capital\")\n",
    "for country in bricks:\n",
    "    for capital in range(len(country)):\n",
    "        if capital == 1:\n",
    "            print(country[capital-1] + \"\\t\" + country[capital])\n",
    "            #print(len(country))"
   ]
  },
  {
   "cell_type": "code",
   "execution_count": 5,
   "metadata": {},
   "outputs": [
    {
     "name": "stdout",
     "output_type": "stream",
     "text": [
      "[[], ['Brazil', 'Brasilia', 8.516, 200.4], ['Russia', 'Moscow', 17.1, 143.5], ['India', 'New Dehli'], ['China', 'Beijing'], ['South Africa', 'Pretoria']]\n"
     ]
    }
   ],
   "source": [
    "# Add all elements of a list to the another list\n",
    "new_bricks = [[]]\n",
    "new_bricks.extend(bricks) \n",
    "print(new_bricks)"
   ]
  },
  {
   "cell_type": "code",
   "execution_count": 7,
   "metadata": {},
   "outputs": [],
   "source": [
    "#car.append(\"Kampa\")\n",
    "#car.count(\"Kampa\")\n",
    "#car"
   ]
  },
  {
   "cell_type": "code",
   "execution_count": 34,
   "metadata": {},
   "outputs": [],
   "source": [
    "# clear() - to remove all elements at one go\n",
    "\n",
    "# copy() - copies the contect of a list to a new list : deep copy i.e. change to original list does not affect copied list\n",
    "# shallow copy - using '=' operator : both variables refer to same list i.e. change to original list affects copied list\n",
    "\n",
    "# deletes car list and it contect from memory\n",
    "del car\n"
   ]
  },
  {
   "cell_type": "code",
   "execution_count": 2,
   "metadata": {},
   "outputs": [
    {
     "name": "stdout",
     "output_type": "stream",
     "text": [
      "214\n"
     ]
    },
    {
     "data": {
      "text/plain": [
       "[5, 21, 17, 1, 101, 69, 5, 21, 17, 1, 101, 69]"
      ]
     },
     "execution_count": 2,
     "metadata": {},
     "output_type": "execute_result"
    }
   ],
   "source": [
    "num_list = [5,21,17,1,101,69]\n",
    "\n",
    "print(sum(num_list))\n",
    "\n",
    "# concatenates list with itseld only works with int. float will throw error\n",
    "num_list*=2\n",
    "num_list"
   ]
  },
  {
   "cell_type": "code",
   "execution_count": 62,
   "metadata": {},
   "outputs": [
    {
     "data": {
      "text/plain": [
       "[5, 21, 17, 1, 101, 69, 5, 21, 17, 1, 101, 69]"
      ]
     },
     "execution_count": 62,
     "metadata": {},
     "output_type": "execute_result"
    }
   ],
   "source": [
    "# Slicing ; works with -ve references as well\n",
    "\n",
    "num_list[0:3] # returns first three element at index position 0,1,2\n",
    "\n",
    "num_list[12:] # empty list => no element present\n",
    "\n",
    "num_list[:3] # first 3 element\n",
    "\n",
    "num_list[6:] # index 6 till the end\n",
    "\n",
    "num_list[:] # all elements in list"
   ]
  },
  {
   "cell_type": "code",
   "execution_count": 4,
   "metadata": {},
   "outputs": [
    {
     "data": {
      "text/plain": [
       "[21, 1, 69]"
      ]
     },
     "execution_count": 4,
     "metadata": {},
     "output_type": "execute_result"
    }
   ],
   "source": [
    "num_list[1:6:2] #start at index 1 end at 5 with a step size of 2"
   ]
  },
  {
   "cell_type": "code",
   "execution_count": 5,
   "metadata": {},
   "outputs": [
    {
     "data": {
      "text/plain": [
       "[69, 101, 1, 17, 21, 5, 69, 101, 1, 17, 21, 5]"
      ]
     },
     "execution_count": 5,
     "metadata": {},
     "output_type": "execute_result"
    }
   ],
   "source": [
    "# access list in reverse order\n",
    "\n",
    "num_list[::-1]"
   ]
  },
  {
   "cell_type": "code",
   "execution_count": 8,
   "metadata": {},
   "outputs": [
    {
     "data": {
      "text/plain": [
       "['Toyota', 'BMW', 'Mercedes', 'Ford', 'Dodger']"
      ]
     },
     "execution_count": 8,
     "metadata": {},
     "output_type": "execute_result"
    }
   ],
   "source": [
    "# Adding elements at 4 index and last index\n",
    "car[4:-1] = [\"Ford\",\"Dodger\"]\n",
    "car"
   ]
  },
  {
   "cell_type": "code",
   "execution_count": 9,
   "metadata": {},
   "outputs": [
    {
     "data": {
      "text/plain": [
       "True"
      ]
     },
     "execution_count": 9,
     "metadata": {},
     "output_type": "execute_result"
    }
   ],
   "source": [
    "'Toyota' in car   #in command"
   ]
  },
  {
   "cell_type": "code",
   "execution_count": 3,
   "metadata": {},
   "outputs": [
    {
     "data": {
      "text/plain": [
       "['Audi', 'BMW', 'Mercedes']"
      ]
     },
     "execution_count": 3,
     "metadata": {},
     "output_type": "execute_result"
    }
   ],
   "source": [
    "car[0] = \"Audi\"\n",
    "car"
   ]
  },
  {
   "cell_type": "markdown",
   "metadata": {},
   "source": [
    "#### Note It"
   ]
  },
  {
   "cell_type": "code",
   "execution_count": 53,
   "metadata": {},
   "outputs": [
    {
     "data": {
      "text/plain": [
       "False"
      ]
     },
     "execution_count": 53,
     "metadata": {},
     "output_type": "execute_result"
    }
   ],
   "source": [
    "# all function : TRUE(>0) or FALSE (0)\n",
    "all([0]) # false\n",
    "all(num_list) # true\n",
    "all([0,1]) # false\n",
    "all([]) # true\n",
    "\n",
    "# any function\n",
    "any([0]) # false\n",
    "any(num_list) # true\n",
    "any([0,1]) # true\n",
    "any([]) # false"
   ]
  }
 ],
 "metadata": {
  "kernelspec": {
   "display_name": "Python 3",
   "language": "python",
   "name": "python3"
  },
  "language_info": {
   "codemirror_mode": {
    "name": "ipython",
    "version": 3
   },
   "file_extension": ".py",
   "mimetype": "text/x-python",
   "name": "python",
   "nbconvert_exporter": "python",
   "pygments_lexer": "ipython3",
   "version": "3.7.6"
  }
 },
 "nbformat": 4,
 "nbformat_minor": 4
}
