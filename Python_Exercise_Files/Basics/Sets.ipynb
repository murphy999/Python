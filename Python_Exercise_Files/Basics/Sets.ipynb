{
 "cells": [
  {
   "cell_type": "markdown",
   "metadata": {},
   "source": [
    "##### Sets\n",
    "* an unordered collection data type\n",
    "* mutable\n",
    "* iterable\n",
    "* no duplicate elements\n",
    "* start with curly braces {}\n",
    "* optimized method for checking whether a specific element is contained in the set"
   ]
  },
  {
   "cell_type": "code",
   "execution_count": 2,
   "metadata": {},
   "outputs": [
    {
     "name": "stdout",
     "output_type": "stream",
     "text": [
      "Set with the use of List: \n"
     ]
    },
    {
     "data": {
      "text/plain": [
       "{'Brazil', 'China', 'India', 'Russia', 'South Africa'}"
      ]
     },
     "execution_count": 2,
     "metadata": {},
     "output_type": "execute_result"
    }
   ],
   "source": [
    "# Creating a Set with the use of a List\n",
    "bricsset = set([\"Brazil\", \"Russia\", \"India\", \"China\", \"South Africa\"])\n",
    "print(\"Set with the use of List: \")\n",
    "bricsset"
   ]
  },
  {
   "cell_type": "code",
   "execution_count": 3,
   "metadata": {},
   "outputs": [],
   "source": [
    "# Add element to Set\n",
    "bricsset.add(\"Malaysia\")"
   ]
  },
  {
   "cell_type": "code",
   "execution_count": 4,
   "metadata": {},
   "outputs": [
    {
     "name": "stdout",
     "output_type": "stream",
     "text": [
      "{'Brazil', 'South Africa', 'China', 'Malaysia', 'Russia', 'India'}\n"
     ]
    }
   ],
   "source": [
    "# Set does not take duplicate Value\n",
    "bricsset.add(\"China\") # No Error & no repitition of Value\n",
    "print(bricsset) "
   ]
  },
  {
   "cell_type": "code",
   "execution_count": 5,
   "metadata": {},
   "outputs": [],
   "source": [
    "num1 = {1,2,5,8}\n",
    "num2 = {3,5,8,10}"
   ]
  },
  {
   "cell_type": "code",
   "execution_count": 6,
   "metadata": {},
   "outputs": [
    {
     "name": "stdout",
     "output_type": "stream",
     "text": [
      "{1, 2, 3, 5, 8, 10}\n"
     ]
    }
   ],
   "source": [
    "# Union Operation\n",
    "print(num1 | num2)"
   ]
  },
  {
   "cell_type": "code",
   "execution_count": 7,
   "metadata": {},
   "outputs": [
    {
     "name": "stdout",
     "output_type": "stream",
     "text": [
      "{8, 5}\n"
     ]
    }
   ],
   "source": [
    "#Intersection Operation\n",
    "print(num1 & num2)"
   ]
  },
  {
   "cell_type": "code",
   "execution_count": 8,
   "metadata": {},
   "outputs": [
    {
     "name": "stdout",
     "output_type": "stream",
     "text": [
      "{1, 2}\n"
     ]
    }
   ],
   "source": [
    "# Difference Operation\n",
    "print(num1-num2)"
   ]
  },
  {
   "cell_type": "code",
   "execution_count": 9,
   "metadata": {},
   "outputs": [
    {
     "name": "stdout",
     "output_type": "stream",
     "text": [
      "{1, 2, 3, 10}\n"
     ]
    }
   ],
   "source": [
    "# Symmetric Difference - prints every elements from both the sets except the common ones\n",
    "print(num1.symmetric_difference(num2))"
   ]
  }
 ],
 "metadata": {
  "kernelspec": {
   "display_name": "Python 3",
   "language": "python",
   "name": "python3"
  },
  "language_info": {
   "codemirror_mode": {
    "name": "ipython",
    "version": 3
   },
   "file_extension": ".py",
   "mimetype": "text/x-python",
   "name": "python",
   "nbconvert_exporter": "python",
   "pygments_lexer": "ipython3",
   "version": "3.7.6"
  }
 },
 "nbformat": 4,
 "nbformat_minor": 4
}
