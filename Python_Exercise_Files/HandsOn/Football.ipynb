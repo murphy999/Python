{
 "cells": [
  {
   "cell_type": "code",
   "execution_count": 2,
   "metadata": {},
   "outputs": [
    {
     "data": {
      "text/plain": [
       "14"
      ]
     },
     "execution_count": 2,
     "metadata": {},
     "output_type": "execute_result"
    }
   ],
   "source": [
    "import pandas as pd"
   ]
  },
  {
   "cell_type": "code",
   "execution_count": null,
   "metadata": {},
   "outputs": [],
   "source": [
    "# Dictionary of Top Scorers\n",
    "wc_player = {\n",
    "                'Klose':16,\n",
    "                'Christiano Ronaldo':15,\n",
    "                'Muller':14,\n",
    "                'Lionel Messi':13,\n",
    "                'Pele' : 12,\n",
    "                'Kocsis':11,\n",
    "                'Klinsmann':11\n",
    "            }\n",
    "\n",
    "# Series\n",
    "wc_topPlayer = pd.Series(wc_player)\n",
    "wc_topPlayer\n",
    "\n",
    "# Note : Indexing on Series works like dictionary that was used to creat it\n",
    "wc_topPlayer['Muller']"
   ]
  },
  {
   "cell_type": "code",
   "execution_count": 4,
   "metadata": {},
   "outputs": [
    {
     "data": {
      "text/plain": [
       "Klose                   Germany\n",
       "Christiano Ronaldo     Portugal\n",
       "Muller                  Germany\n",
       "Lionel Messi          Argentina\n",
       "Pele                     Brazil\n",
       "Kocsis                  Hungary\n",
       "Klinsmann               Germany\n",
       "dtype: object"
      ]
     },
     "execution_count": 4,
     "metadata": {},
     "output_type": "execute_result"
    }
   ],
   "source": [
    "# Dictionary of Nations\n",
    "nation_dict = {\n",
    "                'Klose':'Germany',\n",
    "                'Christiano Ronaldo':'Portugal',\n",
    "                'Muller':'Germany',\n",
    "                'Lionel Messi':'Argentina',\n",
    "                'Pele' : 'Brazil',\n",
    "                'Kocsis':'Hungary',\n",
    "                'Klinsmann':'Germany'\n",
    "              }\n",
    "# Series\n",
    "wc_topNation = pd.Series(nation_dict)\n",
    "wc_topNation"
   ]
  },
  {
   "cell_type": "code",
   "execution_count": 6,
   "metadata": {},
   "outputs": [
    {
     "data": {
      "text/html": [
       "<div>\n",
       "<style scoped>\n",
       "    .dataframe tbody tr th:only-of-type {\n",
       "        vertical-align: middle;\n",
       "    }\n",
       "\n",
       "    .dataframe tbody tr th {\n",
       "        vertical-align: top;\n",
       "    }\n",
       "\n",
       "    .dataframe thead th {\n",
       "        text-align: right;\n",
       "    }\n",
       "</style>\n",
       "<table border=\"1\" class=\"dataframe\">\n",
       "  <thead>\n",
       "    <tr style=\"text-align: right;\">\n",
       "      <th></th>\n",
       "      <th>Nation</th>\n",
       "      <th>Goals</th>\n",
       "    </tr>\n",
       "  </thead>\n",
       "  <tbody>\n",
       "    <tr>\n",
       "      <td>Klose</td>\n",
       "      <td>Germany</td>\n",
       "      <td>16</td>\n",
       "    </tr>\n",
       "    <tr>\n",
       "      <td>Christiano Ronaldo</td>\n",
       "      <td>Portugal</td>\n",
       "      <td>15</td>\n",
       "    </tr>\n",
       "    <tr>\n",
       "      <td>Muller</td>\n",
       "      <td>Germany</td>\n",
       "      <td>14</td>\n",
       "    </tr>\n",
       "    <tr>\n",
       "      <td>Lionel Messi</td>\n",
       "      <td>Argentina</td>\n",
       "      <td>13</td>\n",
       "    </tr>\n",
       "    <tr>\n",
       "      <td>Pele</td>\n",
       "      <td>Brazil</td>\n",
       "      <td>12</td>\n",
       "    </tr>\n",
       "    <tr>\n",
       "      <td>Kocsis</td>\n",
       "      <td>Hungary</td>\n",
       "      <td>11</td>\n",
       "    </tr>\n",
       "    <tr>\n",
       "      <td>Klinsmann</td>\n",
       "      <td>Germany</td>\n",
       "      <td>11</td>\n",
       "    </tr>\n",
       "  </tbody>\n",
       "</table>\n",
       "</div>"
      ],
      "text/plain": [
       "                       Nation  Goals\n",
       "Klose                 Germany     16\n",
       "Christiano Ronaldo   Portugal     15\n",
       "Muller                Germany     14\n",
       "Lionel Messi        Argentina     13\n",
       "Pele                   Brazil     12\n",
       "Kocsis                Hungary     11\n",
       "Klinsmann             Germany     11"
      ]
     },
     "execution_count": 6,
     "metadata": {},
     "output_type": "execute_result"
    }
   ],
   "source": [
    "# Combine two series into a single dataframe\n",
    "df_wc_players = pd.DataFrame ({'Nation':wc_topNation, 'Goals':wc_topPlayer})\n",
    "df_wc_players\n",
    "\n",
    "#Note:\n",
    "# The DF is indexed by player names"
   ]
  },
  {
   "cell_type": "code",
   "execution_count": 16,
   "metadata": {},
   "outputs": [
    {
     "data": {
      "text/plain": [
       "Klose        16\n",
       "Muller       14\n",
       "Klinsmann    11\n",
       "Name: Goals, dtype: int64"
      ]
     },
     "execution_count": 16,
     "metadata": {},
     "output_type": "execute_result"
    }
   ],
   "source": [
    "# Retrieving Records\n",
    "#df_wc_players ['Pele']  # gives error\n",
    "\n",
    "#Note:\n",
    "# When using bracket [] notation, have to use column headings and not indices\n",
    "\n",
    "# Retrieve using indices use 'loc'\n",
    "df_wc_players.loc['Pele',:]\n",
    "# we asked Pandas to give us record with index as 'Pele' and all its column\n",
    "\n",
    "df_wc_players.loc[df_wc_players['Nation'] == 'Germany','Goals']\n"
   ]
  }
 ],
 "metadata": {
  "kernelspec": {
   "display_name": "Python 3",
   "language": "python",
   "name": "python3"
  },
  "language_info": {
   "codemirror_mode": {
    "name": "ipython",
    "version": 3
   },
   "file_extension": ".py",
   "mimetype": "text/x-python",
   "name": "python",
   "nbconvert_exporter": "python",
   "pygments_lexer": "ipython3",
   "version": "3.7.6"
  }
 },
 "nbformat": 4,
 "nbformat_minor": 2
}
